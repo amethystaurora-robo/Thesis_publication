{
 "cells": [
  {
   "cell_type": "code",
   "execution_count": null,
   "id": "208660ed-bd73-4097-a02c-002933407d77",
   "metadata": {},
   "outputs": [],
   "source": [
    "'''\n",
    "This file can be used for DEGs output from DeSeq2 and files from output of DynGENIE3.\n",
    "\n",
    "It adds KEGG IDs to both files, sorts the files by their scores (logFC and alphas, respectively), and filters so 10k genes\n",
    "or less are in each file.\n",
    "\n",
    "Alphas tend to have a lot of duplicate scores. Jitter is added and scores are aggregated for duplicate genes. Unique values of \n",
    "genes and scores must be used for Gestalt.\n",
    "\n",
    "'''"
   ]
  },
  {
   "cell_type": "code",
   "execution_count": 36,
   "id": "eb794c0f-8bee-42b4-9474-ee3bca60b365",
   "metadata": {},
   "outputs": [],
   "source": [
    "import pandas as pd\n",
    "import numpy as np\n",
    "import re\n",
    "import glob\n",
    "import os"
   ]
  },
  {
   "cell_type": "code",
   "execution_count": 37,
   "id": "47d79184-d821-4f4c-a671-e4d76b6e8dc9",
   "metadata": {},
   "outputs": [
    {
     "name": "stderr",
     "output_type": "stream",
     "text": [
      "/var/folders/v1/ymptnwwx3x1b7_mw0nns09wr0000gn/T/ipykernel_64377/2906897882.py:2: DtypeWarning: Columns (2,3,4,5,6,7,8,9,10,11,12,13,14,15,16,17,18,19,20,21,22,23,24,25,26,27,28,29,30,31,32,33,34,35,36,37,38,39,40,41,42,43,44,45,46,47,48,49,50,51,52,53,54,55,56,57,58,59,60,61,62,63,64,65,66,67,68,69,70,71,72,73,74,75,76,77,78,79,80,81,82,83,84,85,86,87,88,89,90,91,92,93,94,95,96,97,98,99,100,101,102,103,104,105,106,107,108,109,110,111,112,113,114,115,116,117,118,119,120,121,122,123,124,125,126,127,128,129,130,131,132,133,134,135,136,137,138,139,140,141,142,143,144,145,146,147,148,149,150,151,152,153,154,155,156,157,158,159,160) have mixed types. Specify dtype option on import or set low_memory=False.\n",
      "  expression_levels = pd.read_csv('../Data/omics/rna_vst_proc.csv')\n"
     ]
    }
   ],
   "source": [
    "#import original gene expression files\n",
    "expression_levels = pd.read_csv('../Data/omics/rna_vst_proc.csv')\n",
    "#import DEGs from DynGENIE3\n",
    "#dosed_genes = pd.read_csv('genes_in_low_or_high_with_source.csv')\n",
    "#import human orthologs\n",
    "human_orthologs = pd.read_csv('../Data/ortholog/dma_hsa.tsv',sep='\\t')\n",
    "#import DEGs from Deseq2\n",
    "data_dir_deseq2 = \"Deseq2 Results\"\n",
    "csv_files = glob.glob(f\"{data_dir_deseq2}/*.csv\")\n",
    "deseq_dfs = [pd.read_csv(file) for file in csv_files]\n",
    "#import pathways\n",
    "#pathways = pd.read_csv('"
   ]
  },
  {
   "cell_type": "code",
   "execution_count": 15,
   "id": "b801e595-fc8b-4de0-ad77-81c6c5c306c6",
   "metadata": {},
   "outputs": [
    {
     "data": {
      "text/html": [
       "<div>\n",
       "<style scoped>\n",
       "    .dataframe tbody tr th:only-of-type {\n",
       "        vertical-align: middle;\n",
       "    }\n",
       "\n",
       "    .dataframe tbody tr th {\n",
       "        vertical-align: top;\n",
       "    }\n",
       "\n",
       "    .dataframe thead th {\n",
       "        text-align: right;\n",
       "    }\n",
       "</style>\n",
       "<table border=\"1\" class=\"dataframe\">\n",
       "  <thead>\n",
       "    <tr style=\"text-align: right;\">\n",
       "      <th></th>\n",
       "      <th>treatment</th>\n",
       "      <th>HSA</th>\n",
       "    </tr>\n",
       "  </thead>\n",
       "  <tbody>\n",
       "    <tr>\n",
       "      <th>0</th>\n",
       "      <td>Dapma7bEVm020240</td>\n",
       "      <td>THAP9</td>\n",
       "    </tr>\n",
       "    <tr>\n",
       "      <th>1</th>\n",
       "      <td>Dapma7bEVm022481</td>\n",
       "      <td>NaN</td>\n",
       "    </tr>\n",
       "    <tr>\n",
       "      <th>2</th>\n",
       "      <td>Dapma7bEVm029341</td>\n",
       "      <td>NaN</td>\n",
       "    </tr>\n",
       "    <tr>\n",
       "      <th>3</th>\n",
       "      <td>Dapma7bEVm016833</td>\n",
       "      <td>C8orf33;LOC105373926;LOC105374103;LOC105376526...</td>\n",
       "    </tr>\n",
       "    <tr>\n",
       "      <th>4</th>\n",
       "      <td>Dapma7bEVm022524</td>\n",
       "      <td>NaN</td>\n",
       "    </tr>\n",
       "  </tbody>\n",
       "</table>\n",
       "</div>"
      ],
      "text/plain": [
       "          treatment                                                HSA\n",
       "0  Dapma7bEVm020240                                              THAP9\n",
       "1  Dapma7bEVm022481                                                NaN\n",
       "2  Dapma7bEVm029341                                                NaN\n",
       "3  Dapma7bEVm016833  C8orf33;LOC105373926;LOC105374103;LOC105376526...\n",
       "4  Dapma7bEVm022524                                                NaN"
      ]
     },
     "execution_count": 15,
     "metadata": {},
     "output_type": "execute_result"
    }
   ],
   "source": [
    "#split combined file to two conditions\n",
    "#dosed_genes_low = dosed_genes.loc[dosed_genes['source'] == 'low']\n",
    "#dosed_genes_high = dosed_genes.loc[dosed_genes['source'] == 'high']"
   ]
  },
  {
   "cell_type": "code",
   "execution_count": 38,
   "id": "56635cad-6999-4177-a2c7-4e6ced572268",
   "metadata": {},
   "outputs": [],
   "source": [
    "#get kegg IDs and orthologs, matched on Dapma gene\n",
    "human_renamed = human_orthologs.rename(columns={\"Daphnia_magna\": \"treatment\"})\n",
    "expression_levels_renamed = expression_levels.rename(columns={\"Unnamed: 0\": \"KEGG\"})\n",
    "kegg_human = pd.merge(expression_levels_renamed,human_renamed,on='treatment')"
   ]
  },
  {
   "cell_type": "code",
   "execution_count": 39,
   "id": "2ce0a407-6da5-4460-8bb3-bdc60ae34ca3",
   "metadata": {},
   "outputs": [],
   "source": [
    "#function to prepare Deseq2 files for gestalt\n",
    "def deseq_gestalt(df,file_name):\n",
    "\n",
    "    #rename index column\n",
    "    df = df.rename(columns={df.columns[0]: 'GeneID'})\n",
    "    #rename kegg_human['target'] to GeneID\n",
    "    kegg_human_renamed = kegg_human.rename(columns={\"treatment\":\"GeneID\"})\n",
    "    kegg_human_subset = kegg_human_renamed[['KEGG','GeneID']]\n",
    "    #drop any values where KEGG ID is not found\n",
    "    kegg_human_subset = kegg_human_subset.dropna(subset=['KEGG'])\n",
    "    #clean human orthologs so only one entry for one gene\n",
    "    def retain_first_gene(gene_string):\n",
    "        return gene_string.split(';')[0]\n",
    "    # Apply the function to the 'genes' column\n",
    "    kegg_human_subset['KEGG'] = kegg_human_subset['KEGG'].apply(retain_first_gene)\n",
    "    #add kegg IDs on geneID\n",
    "    merged_kegg_deseq = pd.merge(kegg_human_subset,df,on='GeneID')\n",
    "    #subset df to only two columns - KEGG and logfc\n",
    "    kegg_deseq_subset = merged_kegg_deseq[['KEGG','log2FoldChange']]\n",
    "    #order by absolute value of logfc\n",
    "    deseq_sorted = kegg_deseq_subset.reindex(kegg_deseq_subset['log2FoldChange'].abs().sort_values(ascending=False).index)\n",
    "    #get top 10k genes and save rnk for Gestalt\n",
    "    deseq_head = deseq_sorted.head(10000)\n",
    "    #rename columns\n",
    "    deseq_head_renamed = deseq_head.rename(columns={\"KEGG\":\"GeneID\",\"log2FoldChange\":\"score\"})\n",
    "    #save to rnk file\n",
    "    deseq_head_renamed.to_csv(file_name, sep='\\t', index=False,header=False)\n",
    "\n",
    "    return deseq_head"
   ]
  },
  {
   "cell_type": "code",
   "execution_count": 40,
   "id": "d25e8f71-0600-4501-97ee-92cea69dee0e",
   "metadata": {},
   "outputs": [],
   "source": [
    "#run gestalt prep for 18 deseq files\n",
    "for file in range(len(csv_files)):\n",
    "    deseq_gestalt(deseq_dfs[file],os.path.splitext(csv_files[file])[0]+'_filtered.rnk')"
   ]
  },
  {
   "cell_type": "code",
   "execution_count": 12,
   "id": "5f32e508-0795-4718-abca-20e77566a60f",
   "metadata": {},
   "outputs": [],
   "source": [
    "#prepare output of DynGENIE3 for Gestalt\n",
    "def process_gestalt(df): \n",
    "    \n",
    "    #process files for GESTALT, requires target genes and their alphas\n",
    "    target = df[['target','alpha']]\n",
    "    \n",
    "    # Rename the 'target' column to 'regulatory' in control_target\n",
    "    target_renamed = target.rename(columns={'target': 'treatment'})\n",
    "    \n",
    "    #add KEGG IDs and remove NANs\n",
    "    kegg_gene_file = expression_levels_renamed[['KEGG','treatment']]\n",
    "    merged_keggs = pd.merge(kegg_gene_file,target_renamed,on='treatment')\n",
    "    \n",
    "    # Sort by 'alpha' column\n",
    "    sorted_df = merged_keggs.sort_values(by='alpha',ascending=False).reset_index(drop=True)\n",
    "\n",
    "    #drop nans and remove semi-colons from kegg ids, rename to prepare for GMT\n",
    "    nans_dropped = sorted_df.dropna(subset=['KEGG'])\n",
    "    filtered_df = nans_dropped[['KEGG','alpha']]\n",
    "    filtered_df['KEGG'] = filtered_df['KEGG'].str.split(';').str[0]\n",
    "    renamed_df = filtered_df.rename(columns={'KEGG': 'NAME'})\n",
    "\n",
    "    return renamed_df"
   ]
  },
  {
   "cell_type": "code",
   "execution_count": 17,
   "id": "9ce8edf9-9d63-491d-85ba-77fcd7797ee1",
   "metadata": {},
   "outputs": [
    {
     "name": "stderr",
     "output_type": "stream",
     "text": [
      "/var/folders/v1/ymptnwwx3x1b7_mw0nns09wr0000gn/T/ipykernel_27033/1830861898.py:20: SettingWithCopyWarning: \n",
      "A value is trying to be set on a copy of a slice from a DataFrame.\n",
      "Try using .loc[row_indexer,col_indexer] = value instead\n",
      "\n",
      "See the caveats in the documentation: https://pandas.pydata.org/pandas-docs/stable/user_guide/indexing.html#returning-a-view-versus-a-copy\n",
      "  filtered_df['KEGG'] = filtered_df['KEGG'].str.split(';').str[0]\n",
      "/var/folders/v1/ymptnwwx3x1b7_mw0nns09wr0000gn/T/ipykernel_27033/1830861898.py:20: SettingWithCopyWarning: \n",
      "A value is trying to be set on a copy of a slice from a DataFrame.\n",
      "Try using .loc[row_indexer,col_indexer] = value instead\n",
      "\n",
      "See the caveats in the documentation: https://pandas.pydata.org/pandas-docs/stable/user_guide/indexing.html#returning-a-view-versus-a-copy\n",
      "  filtered_df['KEGG'] = filtered_df['KEGG'].str.split(';').str[0]\n"
     ]
    }
   ],
   "source": [
    "#run initial processing for treatment conditions\n",
    "ranked_genes_low = process_gestalt(dosed_genes_low)\n",
    "ranked_genes_high = process_gestalt(dosed_genes_high)"
   ]
  },
  {
   "cell_type": "code",
   "execution_count": 19,
   "id": "02d1fa90-ecbe-4584-9570-88daa0450016",
   "metadata": {},
   "outputs": [],
   "source": [
    "#add jitter and aggregate scores - Gestalt cannot handle duplicate scores or genes\n",
    "def prepare_gestalt(df, file_name):\n",
    "    \n",
    "    # Add jitter to scores to handle ties\n",
    "    np.random.seed(42)  # For reproducibility\n",
    "    df['alpha'] = df['alpha'] + np.random.uniform(-0.01, 0.01, df.shape[0])\n",
    "\n",
    "    # Aggregate scores for duplicated genes\n",
    "    aggregated_scores = df.groupby('NAME')['alpha'].mean().reset_index()\n",
    "\n",
    "    # Save to .rnk file\n",
    "    aggregated_scores.to_csv(file_name, sep=\"\\t\", index=False, header=False)\n",
    "\n",
    "# Prepare and save the .rnk files\n",
    "prepare_gestalt(ranked_genes_low, 'gestalt_alphas_low.rnk')\n",
    "prepare_gestalt(ranked_genes_high, 'gestalt_alphas_high.rnk')"
   ]
  }
 ],
 "metadata": {
  "kernelspec": {
   "display_name": "Python 3 (ipykernel)",
   "language": "python",
   "name": "python3"
  },
  "language_info": {
   "codemirror_mode": {
    "name": "ipython",
    "version": 3
   },
   "file_extension": ".py",
   "mimetype": "text/x-python",
   "name": "python",
   "nbconvert_exporter": "python",
   "pygments_lexer": "ipython3",
   "version": "3.9.13"
  }
 },
 "nbformat": 4,
 "nbformat_minor": 5
}
